{
 "cells": [
  {
   "cell_type": "code",
   "execution_count": 4,
   "metadata": {},
   "outputs": [
    {
     "name": "stdout",
     "output_type": "stream",
     "text": [
      "Ваш алгоритм угадывает число в среднем за 9 попыток\n"
     ]
    },
    {
     "data": {
      "text/plain": [
       "9"
      ]
     },
     "execution_count": 4,
     "metadata": {},
     "output_type": "execute_result"
    }
   ],
   "source": [
    "# Project 0 \"Quick start\"\n",
    "# Made by Kseniia Petrova-Szczasiuk \n",
    "# Mon, 14.08.2020\n",
    "\n",
    "\n",
    "def guess_game_core(number):\n",
    "    '''The core algorhitm of guessing game is based on binary search'''\n",
    "    '''Guess is always an arithmetic mean of min and max border variants'''\n",
    "    count = 0\n",
    "    min_border, max_border = 1, 101 \n",
    "    while True:\n",
    "        guess = (min_border + max_border)//2 # Initial guess - arithmetic mean of 101 and 1\n",
    "        if guess == number:\n",
    "            count += 1\n",
    "            break\n",
    "        if guess > number:\n",
    "            count += 1\n",
    "            min_border, max_border = 1, guess\n",
    "        if guess < number:\n",
    "            count += 1\n",
    "            min_border, max_border = guess, max_border\n",
    "    return count\n",
    "\n",
    "def score_game(game_core):\n",
    "    '''Function estimates the performance of the guess_game_core'''\n",
    "    '''Function 'plays' the game 1000 times and calculates an arithmetic mean for obtained results'''\n",
    "    count_ls = []\n",
    "    np.random.seed(1)  # RANDOM SEED, allows repeatability\n",
    "    random_array = np.random.randint(1,101, size=(1000))\n",
    "    for number in random_array:\n",
    "        count_ls.append(game_core(number))\n",
    "    score = int(np.mean(count_ls))\n",
    "    print(f\"Ваш алгоритм угадывает число в среднем за {score} попыток\")\n",
    "    return score\n",
    "\n",
    "\n",
    "score_game(guess_game_core)"
   ]
  },
  {
   "cell_type": "code",
   "execution_count": null,
   "metadata": {},
   "outputs": [],
   "source": []
  }
 ],
 "metadata": {
  "kernelspec": {
   "display_name": "Python 3",
   "language": "python",
   "name": "python3"
  },
  "language_info": {
   "codemirror_mode": {
    "name": "ipython",
    "version": 3
   },
   "file_extension": ".py",
   "mimetype": "text/x-python",
   "name": "python",
   "nbconvert_exporter": "python",
   "pygments_lexer": "ipython3",
   "version": "3.8.3"
  }
 },
 "nbformat": 4,
 "nbformat_minor": 4
}
